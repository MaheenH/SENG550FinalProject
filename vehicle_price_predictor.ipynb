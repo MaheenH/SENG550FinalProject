{
 "cells": [
  {
   "cell_type": "code",
   "execution_count": 54,
   "metadata": {},
   "outputs": [],
   "source": [
    "import pandas as pd\n",
    "import numpy as np\n",
    "import datetime"
   ]
  },
  {
   "cell_type": "code",
   "execution_count": 55,
   "metadata": {},
   "outputs": [],
   "source": [
    "data = pd.read_csv(\"vehicles.csv\", header = None, skiprows=[0])\n",
    "column_headers = pd.read_csv(\"vehicles.csv\", nrows=0).columns.tolist()\n",
    "data.columns = column_headers\n",
    "data = data.drop([\"id\", \"url\", \"region_url\", \"VIN\", \"size\", \"image_url\", \"description\", \"county\", \"lat\", \"long\"], axis=1)\n",
    "data = data.dropna(subset=['posting_date'])\n",
    "#data = data.dropna(subset=['condition'])\n",
    "#drop rows where the manufacturer and model are both null (that should also eleminate rows missing the type as well)\n",
    "#drop rows where both the title_status and condition are null\n",
    "data = data.dropna(subset=[\"title_status\", \"condition\"], how='all')\n",
    "#drop rows where the posting date is null and the odometer is null\n",
    "data = data.dropna(subset=[\"year\", \"odometer\"], how='all')\n",
    "#drop the rows where the posting date is null\n",
    "\n",
    "#print(data.isna().sum())\n",
    "#id, url, region_url, VIN, size, image_url, description, county, lat, long\n",
    "#year undecided\n",
    "#manufacturer fill null values by mapping the model to who is the maker of the model is - Curtis\n",
    "#model drop the missing model values for now - Curtis\n",
    "#condition when: - Cole\n",
    "# title_status clean and odometer less than 500 set to new, \n",
    "# title_status clean and odometer less than 5000 set to like new, \n",
    "# title_status clean and odometer less than 40000 is excellent, \n",
    "# title_status clean and when the odometer is less than 80000 is good,\n",
    "# title_status clean and when the odometer is less than 120000 is fair,\n",
    "# title_status salvage then map to salvage\n",
    "#cylinders drop the column?\n",
    "#fuel just fill in as gas - Cole\n",
    "#odometer fill by taking posting_date year - year x 20000 = fill value - Cole\n",
    "#title_status fill: - Cole\n",
    "# new, like new excellent, good and fair put as clean\n",
    "# salvage as salvage\n",
    "#transmission put as automatic - Curtis\n",
    "#Option 1: drive taking count for region and then assigning the type based on what is most common in that region\n",
    "#Option 2: take count for the vehicle type and then assign the type for what is most common for that type\n",
    "#type map the model to the type - Curtis\n",
    "#paint_color assign based on the type and what is the most popular for that vehicle type - Curtis\n",
    "\n",
    "# null_rows = data[data[['title_status', 'condition']].isnull().all(axis=1)]\n",
    "# print(len(null_rows))\n",
    "#print(data.type.value_counts())\n",
    "#print(data.condition.value_counts())\n",
    "#print(data.shape[0])\n",
    "#display(data)\n"
   ]
  },
  {
   "cell_type": "code",
   "execution_count": null,
   "metadata": {},
   "outputs": [],
   "source": [
    "#Curtis cell for data cleaning"
   ]
  },
  {
   "cell_type": "code",
   "execution_count": 56,
   "metadata": {},
   "outputs": [],
   "source": [
    "#Cole cell for data cleaning\n",
    "title_status_mapping = {\"new\" : \"clean\", \"like new\" : \"clean\", \"excellent\" : \"clean\", \"good\" : \"clean\", \"fair\" : \"clean\", \"salvage\" : \"salvage\" }\n",
    "def format_dates(old_format):\n",
    "    new_format = old_format.split(\"-\")\n",
    "    #new_format = datetime.datetime.strptime(old_format,\"%Y-%m-%dT%H:%M:%S-%f\").date()\n",
    "    return int(new_format[0])\n",
    "\n",
    "def fill_conditions(data_row):\n",
    "# title_status clean and odometer less than 500 set to new, \n",
    "    vehicle_condition = data_row[\"condition\"]\n",
    "    if pd.isna(data_row[\"condition\"]) == False:\n",
    "        vehicle_condition = data_row[\"condition\"]\n",
    "    elif (data_row[\"title_status\"] == \"clean\" or data_row[\"title_status\"] == \"lien\" or data_row[\"title_status\"] == \"missing\") and data_row[\"odometer\"] < 500:\n",
    "        vehicle_condition = \"new\"\n",
    "# title_status clean and odometer less than 5000 set to like new, \n",
    "    elif (data_row[\"title_status\"] == \"clean\" or data_row[\"title_status\"] == \"lien\" or data_row[\"title_status\"] == \"missing\") and data_row[\"odometer\"] < 5000:\n",
    "        vehicle_condition = \"like new\"\n",
    "# title_status clean and odometer less than 40000 is excellent, \n",
    "    elif (data_row[\"title_status\"] == \"clean\" or data_row[\"title_status\"] == \"lien\" or data_row[\"title_status\"] == \"missing\") and data_row[\"odometer\"] < 40000:\n",
    "        vehicle_condition = \"excellent\"\n",
    "# title_status clean and when the odometer is less than 80000 is good,\n",
    "    elif (data_row[\"title_status\"] == \"clean\" or data_row[\"title_status\"] == \"lien\" or data_row[\"title_status\"] == \"missing\") and data_row[\"odometer\"] < 80000:\n",
    "        vehicle_condition = \"good\"\n",
    "# title_status clean and when the odometer is less than 120000 is fair,\n",
    "    elif (data_row[\"title_status\"] == \"clean\" or data_row[\"title_status\"] == \"lien\" or data_row[\"title_status\"] == \"missing\") and data_row[\"odometer\"] <= 150000:\n",
    "        vehicle_condition = \"fair\"\n",
    "# title_status salvage then map to salvage\n",
    "    else:\n",
    "        vehicle_condition = \"salvage\"\n",
    "    return vehicle_condition\n",
    "\n",
    "data[\"fuel\"] = data[\"fuel\"].fillna(value=\"gas\")\n",
    "data[\"title_status\"] = data[\"title_status\"].fillna(value=data[\"condition\"].map(title_status_mapping))\n",
    "data[\"posting_date\"] = data[\"posting_date\"].apply(format_dates)\n",
    "data[\"odometer\"] = data[\"odometer\"].fillna(value=(data[\"posting_date\"] - data[\"year\"]) * 20000)\n",
    "data[\"condition\"] = data.apply(fill_conditions, axis=1)\n",
    "# print(data.isna().sum())\n",
    "# null_rows = data[data[['condition']].isnull().all(axis=1)]\n",
    "# print(null_rows.title_status.value_counts())\n",
    "# print(data.condition.value_counts())\n",
    "# print(null_rows.odometer.value_counts())"
   ]
  },
  {
   "cell_type": "code",
   "execution_count": 37,
   "metadata": {},
   "outputs": [],
   "source": [
    "from sklearn.model_selection import train_test_split\n",
    "\n",
    "y = data[\"price\"]\n",
    "y.columns = [\"price\"]\n",
    "X = data.drop(\"price\", axis=1)\n",
    "\n",
    "X_train, X_test, y_train, y_test = train_test_split(X, y, test_size=0.2, random_state=0)"
   ]
  },
  {
   "cell_type": "code",
   "execution_count": null,
   "metadata": {},
   "outputs": [],
   "source": []
  },
  {
   "cell_type": "code",
   "execution_count": 38,
   "metadata": {},
   "outputs": [],
   "source": [
    "#code for analysis"
   ]
  },
  {
   "cell_type": "code",
   "execution_count": null,
   "metadata": {},
   "outputs": [],
   "source": []
  },
  {
   "cell_type": "code",
   "execution_count": null,
   "metadata": {},
   "outputs": [],
   "source": []
  },
  {
   "cell_type": "code",
   "execution_count": null,
   "metadata": {},
   "outputs": [],
   "source": []
  },
  {
   "cell_type": "code",
   "execution_count": 39,
   "metadata": {},
   "outputs": [],
   "source": [
    "#code for model"
   ]
  },
  {
   "cell_type": "code",
   "execution_count": null,
   "metadata": {},
   "outputs": [],
   "source": []
  },
  {
   "cell_type": "code",
   "execution_count": null,
   "metadata": {},
   "outputs": [],
   "source": []
  },
  {
   "cell_type": "code",
   "execution_count": null,
   "metadata": {},
   "outputs": [],
   "source": []
  },
  {
   "cell_type": "code",
   "execution_count": 40,
   "metadata": {},
   "outputs": [],
   "source": [
    "#code for validation"
   ]
  },
  {
   "cell_type": "code",
   "execution_count": null,
   "metadata": {},
   "outputs": [],
   "source": []
  },
  {
   "cell_type": "code",
   "execution_count": null,
   "metadata": {},
   "outputs": [],
   "source": []
  }
 ],
 "metadata": {
  "kernelspec": {
   "display_name": "Python 3",
   "language": "python",
   "name": "python3"
  },
  "language_info": {
   "codemirror_mode": {
    "name": "ipython",
    "version": 3
   },
   "file_extension": ".py",
   "mimetype": "text/x-python",
   "name": "python",
   "nbconvert_exporter": "python",
   "pygments_lexer": "ipython3",
   "version": "3.9.7"
  }
 },
 "nbformat": 4,
 "nbformat_minor": 2
}
