{
 "cells": [
  {
   "cell_type": "code",
   "execution_count": 35,
   "metadata": {},
   "outputs": [],
   "source": [
    "import pandas as pd"
   ]
  },
  {
   "cell_type": "code",
   "execution_count": 36,
   "metadata": {},
   "outputs": [],
   "source": [
    "data = pd.read_csv(\"vehicles.csv\", header = None, skiprows=[0])\n",
    "column_headers = pd.read_csv(\"vehicles.csv\", nrows=0).columns.tolist()\n",
    "data.columns = column_headers\n",
    "data = data.drop([\"id\", \"url\", \"region_url\", \"VIN\", \"size\", \"image_url\", \"description\", \"county\", \"lat\", \"long\"], axis=1)\n",
    "#drop rows where the manufacturer and model are both null (that should also eleminate rows missing the type as well)\n",
    "#drop rows where both the title_status and condition are null\n",
    "#drop rows where the posting date is null and the odometer is null\n",
    "#drop the rows where the posting date is null\n",
    "\n",
    "#print(data.isna().sum())\n",
    "#id, url, region_url, VIN, size, image_url, description, county, lat, long\n",
    "#year undecided\n",
    "#manufacturer fill null values by mapping the model to who is the maker of the model is - Curtis\n",
    "#model drop the missing model values for now - Curtis\n",
    "#condition when: - Cole\n",
    "# title_status clean and odometer less than 500 set to new, \n",
    "# title_status clean and odometer less than 5000 set to like new, \n",
    "# title_status clean and odometer less than 40000 is excellent, \n",
    "# title_status clean and when the odometer is less than 80000 is good,\n",
    "# title_status clean and when the odometer is less than 120000 is fair,\n",
    "# title_status salvage then map to salvage\n",
    "#cylinders drop the column?\n",
    "#fuel just fill in as gas - Cole\n",
    "#odometer fill by taking posting_date year - year x 20000 = fill value - Cole\n",
    "#title_status fill: - Cole\n",
    "# new, like new excellent, good and fair put as clean\n",
    "# salvage as salvage\n",
    "#transmission put as automatic - Curtis\n",
    "#Option 1: drive taking count for region and then assigning the type based on what is most common in that region\n",
    "#Option 2: take count for the vehicle type and then assign the type for what is most common for that type\n",
    "#type map the model to the type - Curtis\n",
    "#paint_color assign based on the type and what is the most popular for that vehicle type - Curtis\n",
    "\n",
    "# null_rows = data[data[['title_status', 'condition']].isnull().all(axis=1)]\n",
    "# print(len(null_rows))\n",
    "#print(data.type.value_counts())\n",
    "#print(data.condition.value_counts())\n",
    "#print(data.shape[0])\n",
    "#display(data)\n"
   ]
  },
  {
   "cell_type": "code",
   "execution_count": null,
   "metadata": {},
   "outputs": [],
   "source": [
    "#Curtis cell for data cleaning"
   ]
  },
  {
   "cell_type": "code",
   "execution_count": null,
   "metadata": {},
   "outputs": [],
   "source": [
    "#Cole cell for data cleaning"
   ]
  },
  {
   "cell_type": "code",
   "execution_count": 37,
   "metadata": {},
   "outputs": [],
   "source": [
    "from sklearn.model_selection import train_test_split\n",
    "\n",
    "y = data[\"price\"]\n",
    "y.columns = [\"price\"]\n",
    "X = data.drop(\"price\", axis=1)\n",
    "\n",
    "X_train, X_test, y_train, y_test = train_test_split(X, y, test_size=0.2, random_state=0)"
   ]
  },
  {
   "cell_type": "code",
   "execution_count": null,
   "metadata": {},
   "outputs": [],
   "source": []
  },
  {
   "cell_type": "code",
   "execution_count": 38,
   "metadata": {},
   "outputs": [],
   "source": [
    "#code for analysis"
   ]
  },
  {
   "cell_type": "code",
   "execution_count": null,
   "metadata": {},
   "outputs": [],
   "source": []
  },
  {
   "cell_type": "code",
   "execution_count": null,
   "metadata": {},
   "outputs": [],
   "source": []
  },
  {
   "cell_type": "code",
   "execution_count": null,
   "metadata": {},
   "outputs": [],
   "source": []
  },
  {
   "cell_type": "code",
   "execution_count": 39,
   "metadata": {},
   "outputs": [],
   "source": [
    "#code for model"
   ]
  },
  {
   "cell_type": "code",
   "execution_count": null,
   "metadata": {},
   "outputs": [],
   "source": []
  },
  {
   "cell_type": "code",
   "execution_count": null,
   "metadata": {},
   "outputs": [],
   "source": []
  },
  {
   "cell_type": "code",
   "execution_count": null,
   "metadata": {},
   "outputs": [],
   "source": []
  },
  {
   "cell_type": "code",
   "execution_count": 40,
   "metadata": {},
   "outputs": [],
   "source": [
    "#code for validation"
   ]
  },
  {
   "cell_type": "code",
   "execution_count": null,
   "metadata": {},
   "outputs": [],
   "source": []
  },
  {
   "cell_type": "code",
   "execution_count": null,
   "metadata": {},
   "outputs": [],
   "source": []
  }
 ],
 "metadata": {
  "kernelspec": {
   "display_name": "Python 3",
   "language": "python",
   "name": "python3"
  },
  "language_info": {
   "codemirror_mode": {
    "name": "ipython",
    "version": 3
   },
   "file_extension": ".py",
   "mimetype": "text/x-python",
   "name": "python",
   "nbconvert_exporter": "python",
   "pygments_lexer": "ipython3",
   "version": "3.9.7"
  }
 },
 "nbformat": 4,
 "nbformat_minor": 2
}
